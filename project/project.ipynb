{
 "cells": [
  {
   "cell_type": "code",
   "execution_count": 1,
   "metadata": {},
   "outputs": [],
   "source": [
    "### Setting up environment\n",
    "import numpy as np\n",
    "from numpy import sqrt\n",
    "from scipy.linalg import expm, inv, cholesky as chol\n",
    "import matplotlib.pyplot as plt\n",
    "\n",
    "### Setting plotting style\n",
    "plt.style.use('fivethirtyeight')\n",
    "COLORS = plt.rcParams['axes.prop_cycle'].by_key()['color']\n",
    "\n",
    "### Seed the RNG\n",
    "np.random.seed(0)"
   ]
  },
  {
   "cell_type": "code",
   "execution_count": 2,
   "metadata": {},
   "outputs": [],
   "source": [
    "def pad_to_square(A, n=None):\n",
    "    nx, ny = A.shape\n",
    "    if n is None:\n",
    "        n = max(nx, ny)\n",
    "    B = np.zeros((n,n))\n",
    "    B[:nx, :ny] = A\n",
    "    return B"
   ]
  },
  {
   "cell_type": "markdown",
   "metadata": {},
   "source": [
    "# 1 Simulation Model $\\mathcal{M^S}$"
   ]
  },
  {
   "cell_type": "code",
   "execution_count": 3,
   "metadata": {},
   "outputs": [],
   "source": [
    "# Simulation parameters\n",
    "t0, tf = 0, 100\n",
    "dt = .01\n",
    "\n",
    "# System parameters\n",
    "T2, T3 = 5, 1\n",
    "Q = 2*.1**2*np.eye(3)\n",
    "F = np.array([[0, 1, 0],\n",
    "              [0, -1/T2, 1/T2],\n",
    "              [0, 0, -1/T3]])\n",
    "L = np.array([[0, 0, 0],\n",
    "              [0, 0, 0],\n",
    "              [0, 0, 1/T3]])\n",
    "G = np.array([[0, 0, 0],\n",
    "              [0, 0, 0],\n",
    "              [0, 0, 1]])\n",
    "P0 = np.diag([1,.1**2, .1**2])\n",
    "\n",
    "# Measurement parameters\n",
    "R = 1*np.eye(3)\n",
    "H = np.array([[1, 0, 0],\n",
    "              [0, 0, 0],\n",
    "              [0, 0, 0]])"
   ]
  },
  {
   "cell_type": "code",
   "execution_count": 4,
   "metadata": {},
   "outputs": [
    {
     "data": {
      "text/plain": [
       "array([[ 0.  ,  1.  ,  0.  ,  0.  ,  0.  ,  0.  ],\n",
       "       [ 0.  , -0.2 ,  0.2 ,  0.  ,  0.  ,  0.  ],\n",
       "       [ 0.  ,  0.  , -1.  ,  0.  ,  0.  ,  0.02],\n",
       "       [ 0.  ,  0.  ,  0.  , -0.  , -0.  , -0.  ],\n",
       "       [ 0.  ,  0.  ,  0.  , -1.  ,  0.2 , -0.  ],\n",
       "       [ 0.  ,  0.  ,  0.  , -0.  , -0.2 ,  1.  ]])"
      ]
     },
     "execution_count": 4,
     "metadata": {},
     "output_type": "execute_result"
    }
   ],
   "source": [
    "F2 = np.vstack((np.hstack((F, G@Q@G.T)),\n",
    "                np.hstack((np.zeros(F.shape), -F.T))))\n",
    "F2"
   ]
  },
  {
   "cell_type": "code",
   "execution_count": 5,
   "metadata": {},
   "outputs": [
    {
     "data": {
      "text/plain": [
       "array([[ 1.00000000e+00,  9.99000666e-03,  9.96010313e-06,\n",
       "         6.66668400e-16, -3.33334489e-13,  6.66336799e-10],\n",
       "       [ 0.00000000e+00,  9.98001999e-01,  1.98804123e-03,\n",
       "         3.33334489e-13, -1.33334027e-10,  1.99868399e-07],\n",
       "       [ 0.00000000e+00,  0.00000000e+00,  9.90049834e-01,\n",
       "         6.67003468e-10, -2.00135067e-07,  2.00003333e-04],\n",
       "       [-0.00000000e+00, -0.00000000e+00, -0.00000000e+00,\n",
       "         1.00000000e+00,  0.00000000e+00, -0.00000000e+00],\n",
       "       [ 0.00000000e+00,  0.00000000e+00,  0.00000000e+00,\n",
       "        -1.00100067e-02,  1.00200200e+00,  0.00000000e+00],\n",
       "       [ 0.00000000e+00,  0.00000000e+00,  0.00000000e+00,\n",
       "         1.00401035e-05, -2.01204144e-03,  1.01005017e+00]])"
      ]
     },
     "execution_count": 5,
     "metadata": {},
     "output_type": "execute_result"
    }
   ],
   "source": [
    "Fi2 = expm(F2*dt)\n",
    "Fi2"
   ]
  },
  {
   "cell_type": "code",
   "execution_count": 6,
   "metadata": {},
   "outputs": [],
   "source": [
    "n = 3\n",
    "Fi12 = Fi2[:n, n:]  # Upper right\n",
    "Fi22 = Fi2[n:, n:]  # Lower right\n",
    "Ga = chol(Fi12 @ inv(Fi22), lower=True)"
   ]
  },
  {
   "cell_type": "code",
   "execution_count": 7,
   "metadata": {},
   "outputs": [
    {
     "data": {
      "text/plain": [
       "array([[6.30352113e-08, 0.00000000e+00, 0.00000000e+00],\n",
       "       [1.57378158e-05, 4.07432794e-06, 0.00000000e+00],\n",
       "       [1.04656845e-02, 8.14187293e-03, 4.71090429e-03]])"
      ]
     },
     "execution_count": 7,
     "metadata": {},
     "output_type": "execute_result"
    }
   ],
   "source": [
    "Ga"
   ]
  },
  {
   "cell_type": "code",
   "execution_count": 8,
   "metadata": {},
   "outputs": [
    {
     "data": {
      "text/plain": [
       "array([[0.    , 0.    , 0.    ],\n",
       "       [0.    , 0.    , 0.    ],\n",
       "       [0.    , 0.    , 0.0002]])"
      ]
     },
     "execution_count": 8,
     "metadata": {},
     "output_type": "execute_result"
    }
   ],
   "source": [
    "G@G*Q*dt"
   ]
  },
  {
   "cell_type": "code",
   "execution_count": null,
   "metadata": {},
   "outputs": [],
   "source": []
  },
  {
   "cell_type": "markdown",
   "metadata": {},
   "source": [
    "# 2 Discretization"
   ]
  },
  {
   "cell_type": "code",
   "execution_count": 9,
   "metadata": {},
   "outputs": [],
   "source": [
    "def c2d_determnistic(F, L, dt):\n",
    "    n = F.shape[0]\n",
    "    F1 = pad_to_square(np.hstack((F, L)), n=2*n)\n",
    "    Fi1 = expm(F1*dt)\n",
    "    Fi = Fi1[:n, :n]  # Upper left\n",
    "    La = Fi1[:n, n:]  # Upper right\n",
    "    \n",
    "    return (Fi, La)"
   ]
  },
  {
   "cell_type": "code",
   "execution_count": 10,
   "metadata": {},
   "outputs": [],
   "source": [
    "def c2d_stochastic(F, L, G, Q, dt):\n",
    "    n = F.shape[0]\n",
    "    F2 = np.vstack((np.hstack((F, pad_to_square(G@Q@G.T, n=n))),\n",
    "                    np.hstack((np.zeros(F.shape), -F.T))))\n",
    "    Fi2 = expm(F2*dt)\n",
    "    Fi12 = Fi2[:n, n:]  # Upper right\n",
    "    Fi22 = Fi2[n:, n:]  # Lower right\n",
    "    Ga = chol(Fi12 @ inv(Fi22), lower=True)\n",
    "    Fi, La = c2d_determnistic(F, L, dt)\n",
    "    \n",
    "    return (Fi, La, Ga)"
   ]
  },
  {
   "cell_type": "code",
   "execution_count": 11,
   "metadata": {},
   "outputs": [],
   "source": [
    "dt = .01"
   ]
  },
  {
   "cell_type": "code",
   "execution_count": 12,
   "metadata": {},
   "outputs": [
    {
     "data": {
      "text/plain": [
       "(array([[1.00000000e+00, 9.99000666e-03, 9.96010313e-06],\n",
       "        [0.00000000e+00, 9.98001999e-01, 1.98804123e-03],\n",
       "        [0.00000000e+00, 0.00000000e+00, 9.90049834e-01]]),\n",
       " array([[0.00000000e+00, 0.00000000e+00, 3.32335397e-08],\n",
       "        [0.00000000e+00, 0.00000000e+00, 9.96010313e-06],\n",
       "        [0.00000000e+00, 0.00000000e+00, 9.95016625e-03]]))"
      ]
     },
     "execution_count": 12,
     "metadata": {},
     "output_type": "execute_result"
    }
   ],
   "source": [
    "Fi, La = c2d_determnistic(F, L, dt)\n",
    "Fi, La"
   ]
  },
  {
   "cell_type": "code",
   "execution_count": 13,
   "metadata": {},
   "outputs": [
    {
     "data": {
      "text/plain": [
       "(array([[1.00000000e+00, 9.99000666e-03, 9.96010313e-06],\n",
       "        [0.00000000e+00, 9.98001999e-01, 1.98804123e-03],\n",
       "        [0.00000000e+00, 0.00000000e+00, 9.90049834e-01]]),\n",
       " array([[0.00000000e+00, 0.00000000e+00, 3.32335397e-08],\n",
       "        [0.00000000e+00, 0.00000000e+00, 9.96010313e-06],\n",
       "        [0.00000000e+00, 0.00000000e+00, 9.95016625e-03]]),\n",
       " array([[6.30352113e-08, 0.00000000e+00, 0.00000000e+00],\n",
       "        [1.57378158e-05, 4.07432794e-06, 0.00000000e+00],\n",
       "        [1.04656845e-02, 8.14187293e-03, 4.71090429e-03]]))"
      ]
     },
     "execution_count": 13,
     "metadata": {},
     "output_type": "execute_result"
    }
   ],
   "source": [
    "Fi, La, Ga = c2d_stochastic(F, L, G, Q, dt)\n",
    "Fi, La, Ga"
   ]
  },
  {
   "cell_type": "markdown",
   "metadata": {},
   "source": [
    "# 3 Simulation of Stochastic System"
   ]
  },
  {
   "cell_type": "code",
   "execution_count": 14,
   "metadata": {},
   "outputs": [],
   "source": [
    "t = np.arange(0., tf+dt, dt)\n",
    "n = t.size\n",
    "u = np.ones((3,n))"
   ]
  },
  {
   "cell_type": "code",
   "execution_count": 15,
   "metadata": {},
   "outputs": [],
   "source": [
    "# Deterministic process\n",
    "Fi, La = c2d_determnistic(F, L, dt)\n",
    "xd = np.zeros((3, n))\n",
    "\n",
    "for k in range(n-1):\n",
    "    xd[:,k+1,np.newaxis] = Fi@xd[:,k,np.newaxis] + La@u[:,k,np.newaxis]"
   ]
  },
  {
   "cell_type": "code",
   "execution_count": 16,
   "metadata": {},
   "outputs": [
    {
     "data": {
      "text/plain": [
       "[<matplotlib.lines.Line2D at 0x7f2a9c63a610>]"
      ]
     },
     "execution_count": 16,
     "metadata": {},
     "output_type": "execute_result"
    },
    {
     "data": {
      "image/png": "[encoded data removed]",
      "text/plain": [
       "<Figure size 432x288 with 1 Axes>"
      ]
     },
     "metadata": {},
     "output_type": "display_data"
    }
   ],
   "source": [
    "plt.plot(t, xd[1,:])\n",
    "plt.plot(t, u[1,:])"
   ]
  },
  {
   "cell_type": "code",
   "execution_count": 17,
   "metadata": {},
   "outputs": [],
   "source": [
    "Fi, La, Ga = c2d_stochastic(F, L, G, Q, dt)\n",
    "v = np.vstack((np.zeros(n),\n",
    "               np.zeros(n),\n",
    "               np.random.randn(n)))\n",
    "xs = np.zeros((3, n))\n",
    "\n",
    "for k in range(n-1):\n",
    "    xs[:,k+1,np.newaxis] = Fi@xd[:,k,np.newaxis] + La@u[:,k,np.newaxis] + Ga@v[:,k,np.newaxis]"
   ]
  },
  {
   "cell_type": "code",
   "execution_count": 18,
   "metadata": {},
   "outputs": [
    {
     "data": {
      "text/plain": [
       "[<matplotlib.lines.Line2D at 0x7f2a9c516f10>]"
      ]
     },
     "execution_count": 18,
     "metadata": {},
     "output_type": "execute_result"
    },
    {
     "data": {
      "image/png": "[encoded data removed]",
      "text/plain": [
       "<Figure size 432x288 with 1 Axes>"
      ]
     },
     "metadata": {},
     "output_type": "display_data"
    }
   ],
   "source": [
    "plt.plot(t, xd[1,:], lw=6)\n",
    "plt.plot(t, xs[1,:], lw=2)\n",
    "plt.plot(t, u[1,:])"
   ]
  },
  {
   "cell_type": "markdown",
   "metadata": {},
   "source": [
    "# 4 Optimal Kalman Filter"
   ]
  },
  {
   "cell_type": "code",
   "execution_count": 19,
   "metadata": {},
   "outputs": [],
   "source": [
    "# Optimal Kalman Filter\n",
    "Fi, La, Ga = c2d_stochastic(F, L, G, Q, dt)\n",
    "\n",
    "x = xs[:,:-1:1]  # true state vector\n",
    "z = H@x + np.vstack((np.random.randn(n-1),  # Measurements\n",
    "                     np.zeros(n-1),\n",
    "                     np.zeros(n-1)))\n",
    "\n",
    "x_bar = np.zeros(xs.shape)  # a-priori state vector estimate\n",
    "x_hat = np.zeros(x.shape)  # a-posteriori est.\n",
    "P_bar = np.zeros((n,3,3))  # a-priori covariance matrix estimate\n",
    "P_hat = np.zeros((n,3,3))  # a-posteriori est.\n",
    "P_bar[0,...] = P_hat[0,...] = P0"
   ]
  },
  {
   "cell_type": "code",
   "execution_count": 20,
   "metadata": {},
   "outputs": [],
   "source": [
    "I = np.eye(3)\n",
    "Qk = Ga@Ga.T"
   ]
  },
  {
   "cell_type": "code",
   "execution_count": 21,
   "metadata": {},
   "outputs": [],
   "source": [
    "for k in range(n-1):\n",
    "    # Compute Kalman gain\n",
    "    K = P_bar[k,...]@H.T@inv(H@P_bar[k,...]@H.T + R)\n",
    "\n",
    "    # Measurement update\n",
    "    x_hat[:,k,np.newaxis] = x_bar[:,k,np.newaxis] + K@(z[:,k,np.newaxis] - H@x_bar[:,k,np.newaxis])\n",
    "    P_hat[k,...] = (I - K@H)@P_bar[k,...]\n",
    "    \n",
    "    # Time update\n",
    "    x_bar[:,k+1,np.newaxis] = Fi@x_hat[:,k,np.newaxis] + La@u[:,k,np.newaxis]\n",
    "    P_bar[k+1,...] = Fi@P_hat[k,...]@Fi.T + Qk\n",
    "    \n"
   ]
  },
  {
   "cell_type": "code",
   "execution_count": 26,
   "metadata": {},
   "outputs": [
    {
     "data": {
      "text/plain": [
       "[<matplotlib.lines.Line2D at 0x7f2a9c2c05e0>]"
      ]
     },
     "execution_count": 26,
     "metadata": {},
     "output_type": "execute_result"
    },
    {
     "data": {
      "image/png": "[encoded data removed]",
      "text/plain": [
       "<Figure size 432x288 with 1 Axes>"
      ]
     },
     "metadata": {},
     "output_type": "display_data"
    }
   ],
   "source": [
    "plt.plot(t[:-1],x_hat[1,:])\n",
    "plt.plot(t[:-1],x_bar[1,:-1])\n",
    "plt.plot(t[:-1],u[0,:-1])"
   ]
  }
 ],
 "metadata": {
  "kernelspec": {
   "display_name": "Python 3",
   "language": "python",
   "name": "python3"
  },
  "language_info": {
   "codemirror_mode": {
    "name": "ipython",
    "version": 3
   },
   "file_extension": ".py",
   "mimetype": "text/x-python",
   "name": "python",
   "nbconvert_exporter": "python",
   "pygments_lexer": "ipython3",
   "version": "3.8.8"
  }
 },
 "nbformat": 4,
 "nbformat_minor": 4
}
